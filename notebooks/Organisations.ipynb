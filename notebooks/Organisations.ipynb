{
 "cells": [
  {
   "cell_type": "code",
   "execution_count": 31,
   "metadata": {},
   "outputs": [],
   "source": [
    "import dataflows as DF\n",
    "import tabulator"
   ]
  },
  {
   "cell_type": "code",
   "execution_count": 32,
   "metadata": {},
   "outputs": [],
   "source": [
    "ORGS_URL='https://docs.google.com/spreadsheets/d/1fWHl6rlvpqfCXoM1IVhqlY0SWQ_IYCWukuyCcTDwWjM/view'"
   ]
  },
  {
   "cell_type": "code",
   "execution_count": 33,
   "metadata": {},
   "outputs": [],
   "source": [
    "LEGEND_URL='https://docs.google.com/spreadsheets/d/1fWHl6rlvpqfCXoM1IVhqlY0SWQ_IYCWukuyCcTDwWjM/edit#gid=1243311724'\n",
    "legend = list(tabulator.Stream(LEGEND_URL).open().iter())"
   ]
  },
  {
   "cell_type": "code",
   "execution_count": 81,
   "metadata": {},
   "outputs": [],
   "source": [
    "translations_order = [\n",
    "    'org_kind',\n",
    "    'regions',\n",
    "    'life_areas',\n",
    "    'languages',\n",
    "    'specialties',\n",
    "    'provided_services',\n",
    "    'target_audiences',\n",
    "    '_'\n",
    "]\n",
    "translations = {}\n",
    "current = None\n",
    "for line in legend:\n",
    "    if any(x is not None and x.strip() for x in line):\n",
    "        if current is None:\n",
    "            current = translations_order.pop(0)\n",
    "            translations[current] = []\n",
    "        else:\n",
    "            translations[current].append(line)\n",
    "    else:\n",
    "        current = None\n",
    "\n",
    "# org_kind_translations = legend[0:19]\n",
    "# region_translations = legend[20:36]\n",
    "# life_areas_translations = legend[37:55]\n",
    "# languages_translations = legend[56:76]\n",
    "# specialties_translations = legend[77:152]\n",
    "# provided_services_translations = legend[156:199]\n",
    "# target_audiences_translations = legend[201:277]\n"
   ]
  },
  {
   "cell_type": "code",
   "execution_count": 84,
   "metadata": {},
   "outputs": [],
   "source": [
    "LANGS = ['', '.en', '.ar']\n",
    "def split_and_translate(field, translations):\n",
    "    res = DF.Flow(translations, \n",
    "                  DF.concatenate({\n",
    "                    'value': ['col0'], '': ['col1'], '.ar': ['col2'], '.en': ['col3']\n",
    "                  })\n",
    "                 ).results()\n",
    "    translations = res[0][0]\n",
    "    complained = set()\n",
    "    \n",
    "    def process(rows):\n",
    "        for row in rows:\n",
    "            vals = row.pop(field)\n",
    "            vals = vals.split(',')\n",
    "            for lang in LANGS:\n",
    "                row['{}{}'.format(field, lang)] = []\n",
    "            for val in vals:\n",
    "                val = val.strip()\n",
    "                translation = None\n",
    "                for t in translations:\n",
    "                    if t['value'].strip() == val:\n",
    "                        translation = t\n",
    "                        break\n",
    "                if translation is None:\n",
    "                    if val not in complained:\n",
    "                        print('failed to find value for {}: {}'.format(field, val))\n",
    "                        complained.add(val)\n",
    "                    for lang in LANGS:\n",
    "                        row['{}{}'.format(field, lang)].append(val)\n",
    "                else:\n",
    "                    for lang in LANGS:\n",
    "                        if translation[lang] is not None and translation[lang].strip():\n",
    "                            row['{}{}'.format(field, lang)].append(translation[lang])\n",
    "                        else:\n",
    "                            row['{}{}'.format(field, lang)].append(val)\n",
    "            yield row\n",
    "    \n",
    "    def func(package):\n",
    "        fields = package.pkg.descriptor['resources'][0]['schema']['fields']\n",
    "        fields = list(filter(lambda x: x['name'] != field, fields))\n",
    "        fields.extend([\n",
    "            dict(\n",
    "                name='{}{}'.format(field, lang),\n",
    "                type='array'\n",
    "            )\n",
    "            for lang in LANGS\n",
    "        ])\n",
    "        package.pkg.descriptor['resources'][0]['schema']['fields'] = fields\n",
    "        yield package.pkg\n",
    "        for res in package:\n",
    "            yield process(res)\n",
    "    return func"
   ]
  },
  {
   "cell_type": "code",
   "execution_count": null,
   "metadata": {},
   "outputs": [],
   "source": []
  },
  {
   "cell_type": "code",
   "execution_count": 87,
   "metadata": {},
   "outputs": [],
   "source": [
    "headers = {\n",
    " 'name': ['שם מלא של הארגון - לתרגום או לתעתיק'],\n",
    " 'name.ar': ['اسم الجمعيّة'],\n",
    " 'entity_id': ['מספר עמותה'],\n",
    " 'org_kind': ['סוג הארגון'],\n",
    " 'tagline': ['מטרת הארגון ( משפט תיאורי קצר) - לתרגום'],\n",
    " 'tagline.ar': ['מטרת הארגון בתרגום לערבית'],\n",
    " 'objective': ['על הארגון, פעילויות עיקריות ומטרות - לתרגום'],\n",
    " 'objective.ar': ['על הארגון, פעילויות עיקריות ומטרות - תרגום לערבית'],\n",
    " 'life_areas': ['תחומי חיים'],\n",
    " 'languages': ['שפות בהן ניתנים שירותים'],\n",
    " 'specialties': ['תחומי פעילות והתמחות עיקריים'],\n",
    " 'target_audiences': ['קהלי יעד'],\n",
    " 'provided_services': ['השירותים הניתנים - אתר יודעת'],\n",
    " 'regions': ['אזור גיאוגרפי'],\n",
    " 'year_founded': ['שנת הקמה'],\n",
    " 'tags': ['תגיות - התרגום הוא בקובץ נפרד'],\n",
    " 'hotline_phone_number': ['מספר הטלפון של הקו החם: - رقم هاتف الخط الدافئ:'],\n",
    " 'org_website': ['לינק לאתר הארגון'],\n",
    " 'org_facebook': ['לינק לדף פייסבוק של הארגון'],\n",
    " 'org_phone_number': ['טלפון ליצירת קשר עם הארגון'],\n",
    " 'org_email_address': ['מייל ליצירת קשר עם הארגון'],\n",
    " 'logo_url': ['לוגו'],\n",
    "}\n",
    "\n",
    "def flow(*_):\n",
    "    return DF.Flow(\n",
    "        DF.load(ORGS_URL, name='orgs'), \n",
    "        DF.concatenate(headers, resources='orgs'),\n",
    "        DF.checkpoint('orgs'),\n",
    "        *[\n",
    "            split_and_translate(f, translations[f])\n",
    "            for f in translations.keys()\n",
    "            if f != '_'\n",
    "        ],\n",
    "        DF.printer()\n",
    "    )"
   ]
  },
  {
   "cell_type": "code",
   "execution_count": null,
   "metadata": {},
   "outputs": [],
   "source": []
  },
  {
   "cell_type": "code",
   "execution_count": null,
   "metadata": {},
   "outputs": [],
   "source": []
  }
 ],
 "metadata": {
  "kernelspec": {
   "display_name": "Python 3",
   "language": "python",
   "name": "python3"
  },
  "language_info": {
   "codemirror_mode": {
    "name": "ipython",
    "version": 3
   },
   "file_extension": ".py",
   "mimetype": "text/x-python",
   "name": "python",
   "nbconvert_exporter": "python",
   "pygments_lexer": "ipython3",
   "version": "3.7.0"
  }
 },
 "nbformat": 4,
 "nbformat_minor": 2
}
